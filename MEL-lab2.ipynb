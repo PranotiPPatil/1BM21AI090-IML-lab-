{
 "cells": [
  {
   "cell_type": "code",
   "execution_count": 3,
   "id": "cb1546d4",
   "metadata": {},
   "outputs": [],
   "source": [
    "import pandas as pd\n",
    "import numpy as np"
   ]
  },
  {
   "cell_type": "code",
   "execution_count": 51,
   "id": "5fb5e112",
   "metadata": {},
   "outputs": [],
   "source": [
    "df=pd.read_csv(\"MEL-lab2.csv\")"
   ]
  },
  {
   "cell_type": "code",
   "execution_count": 52,
   "id": "d5f59ca5",
   "metadata": {},
   "outputs": [
    {
     "data": {
      "text/html": [
       "<div>\n",
       "<style scoped>\n",
       "    .dataframe tbody tr th:only-of-type {\n",
       "        vertical-align: middle;\n",
       "    }\n",
       "\n",
       "    .dataframe tbody tr th {\n",
       "        vertical-align: top;\n",
       "    }\n",
       "\n",
       "    .dataframe thead th {\n",
       "        text-align: right;\n",
       "    }\n",
       "</style>\n",
       "<table border=\"1\" class=\"dataframe\">\n",
       "  <thead>\n",
       "    <tr style=\"text-align: right;\">\n",
       "      <th></th>\n",
       "      <th>sky</th>\n",
       "      <th>air temp</th>\n",
       "      <th>humidity</th>\n",
       "      <th>wind</th>\n",
       "      <th>water</th>\n",
       "      <th>forecast</th>\n",
       "      <th>enjoy sport</th>\n",
       "    </tr>\n",
       "  </thead>\n",
       "  <tbody>\n",
       "    <tr>\n",
       "      <th>0</th>\n",
       "      <td>sunny</td>\n",
       "      <td>warm</td>\n",
       "      <td>normal</td>\n",
       "      <td>strong</td>\n",
       "      <td>warm</td>\n",
       "      <td>same</td>\n",
       "      <td>yes</td>\n",
       "    </tr>\n",
       "    <tr>\n",
       "      <th>1</th>\n",
       "      <td>sunny</td>\n",
       "      <td>warm</td>\n",
       "      <td>high</td>\n",
       "      <td>strong</td>\n",
       "      <td>warm</td>\n",
       "      <td>same</td>\n",
       "      <td>yes</td>\n",
       "    </tr>\n",
       "    <tr>\n",
       "      <th>2</th>\n",
       "      <td>rainy</td>\n",
       "      <td>cold</td>\n",
       "      <td>high</td>\n",
       "      <td>strong</td>\n",
       "      <td>warm</td>\n",
       "      <td>change</td>\n",
       "      <td>no</td>\n",
       "    </tr>\n",
       "    <tr>\n",
       "      <th>3</th>\n",
       "      <td>sunny</td>\n",
       "      <td>warm</td>\n",
       "      <td>high</td>\n",
       "      <td>strong</td>\n",
       "      <td>cool</td>\n",
       "      <td>change</td>\n",
       "      <td>yes</td>\n",
       "    </tr>\n",
       "  </tbody>\n",
       "</table>\n",
       "</div>"
      ],
      "text/plain": [
       "     sky  air temp  humidity    wind  water  forecast  enjoy sport\n",
       "0  sunny      warm    normal  strong   warm      same          yes\n",
       "1  sunny      warm      high  strong   warm      same          yes\n",
       "2  rainy      cold      high  strong   warm    change           no\n",
       "3  sunny      warm      high  strong   cool    change          yes"
      ]
     },
     "execution_count": 52,
     "metadata": {},
     "output_type": "execute_result"
    }
   ],
   "source": [
    "df"
   ]
  },
  {
   "cell_type": "code",
   "execution_count": 53,
   "id": "357933ea",
   "metadata": {},
   "outputs": [],
   "source": [
    "concepts=np.array(df)[:,:-1]"
   ]
  },
  {
   "cell_type": "code",
   "execution_count": 54,
   "id": "d831d493",
   "metadata": {},
   "outputs": [
    {
     "data": {
      "text/plain": [
       "array([['sunny', 'warm', 'normal', 'strong', 'warm', 'same'],\n",
       "       ['sunny', 'warm', 'high', 'strong', 'warm', 'same'],\n",
       "       ['rainy', 'cold', 'high', 'strong', 'warm', 'change'],\n",
       "       ['sunny', 'warm', 'high', 'strong', 'cool', 'change']],\n",
       "      dtype=object)"
      ]
     },
     "execution_count": 54,
     "metadata": {},
     "output_type": "execute_result"
    }
   ],
   "source": [
    "concepts"
   ]
  },
  {
   "cell_type": "code",
   "execution_count": 55,
   "id": "ae74fb85",
   "metadata": {},
   "outputs": [],
   "source": [
    "target=np.array(df)[:,-1]"
   ]
  },
  {
   "cell_type": "code",
   "execution_count": 56,
   "id": "13f70b31",
   "metadata": {},
   "outputs": [
    {
     "data": {
      "text/plain": [
       "array(['yes', 'yes', 'no', 'yes'], dtype=object)"
      ]
     },
     "execution_count": 56,
     "metadata": {},
     "output_type": "execute_result"
    }
   ],
   "source": [
    "target"
   ]
  },
  {
   "cell_type": "code",
   "execution_count": 57,
   "id": "da617cf3",
   "metadata": {},
   "outputs": [],
   "source": [
    "def train(con,tar):\n",
    "    for i, val in enumerate(tar):\n",
    "        if val.lower()=='yes':\n",
    "            specific_h=con[i].copy()\n",
    "            break\n",
    "    \n",
    "    for i, val in enumerate(con):\n",
    "        if tar[i].lower()=='yes':\n",
    "            for x in range(len(specific_h)):\n",
    "                if val[x] != specific_h[x]:\n",
    "                    specific_h[x]='?'\n",
    "                else:\n",
    "                    pass\n",
    "    return specific_h\n",
    "                "
   ]
  },
  {
   "cell_type": "code",
   "execution_count": 58,
   "id": "a3caffa3",
   "metadata": {},
   "outputs": [
    {
     "name": "stdout",
     "output_type": "stream",
     "text": [
      "['sunny' 'warm' '?' 'strong' '?' '?']\n"
     ]
    }
   ],
   "source": [
    "print(train(concepts,target) )"
   ]
  },
  {
   "cell_type": "markdown",
   "id": "803d91db",
   "metadata": {},
   "source": [
    "### ------------------------------------------------------------------------------------------------------------------------------"
   ]
  },
  {
   "cell_type": "code",
   "execution_count": 34,
   "id": "827ab81a",
   "metadata": {},
   "outputs": [],
   "source": [
    "data=pd.read_csv(\"MEL-lab2(b).csv\")"
   ]
  },
  {
   "cell_type": "code",
   "execution_count": 37,
   "id": "d39fdc74",
   "metadata": {},
   "outputs": [
    {
     "data": {
      "text/html": [
       "<div>\n",
       "<style scoped>\n",
       "    .dataframe tbody tr th:only-of-type {\n",
       "        vertical-align: middle;\n",
       "    }\n",
       "\n",
       "    .dataframe tbody tr th {\n",
       "        vertical-align: top;\n",
       "    }\n",
       "\n",
       "    .dataframe thead th {\n",
       "        text-align: right;\n",
       "    }\n",
       "</style>\n",
       "<table border=\"1\" class=\"dataframe\">\n",
       "  <thead>\n",
       "    <tr style=\"text-align: right;\">\n",
       "      <th></th>\n",
       "      <th>citationa</th>\n",
       "      <th>size</th>\n",
       "      <th>inlibrary</th>\n",
       "      <th>price</th>\n",
       "      <th>editions</th>\n",
       "      <th>buy</th>\n",
       "    </tr>\n",
       "  </thead>\n",
       "  <tbody>\n",
       "    <tr>\n",
       "      <th>0</th>\n",
       "      <td>some</td>\n",
       "      <td>small</td>\n",
       "      <td>no</td>\n",
       "      <td>affordable</td>\n",
       "      <td>many</td>\n",
       "      <td>no</td>\n",
       "    </tr>\n",
       "    <tr>\n",
       "      <th>1</th>\n",
       "      <td>many</td>\n",
       "      <td>big</td>\n",
       "      <td>no</td>\n",
       "      <td>expensive</td>\n",
       "      <td>one</td>\n",
       "      <td>yes</td>\n",
       "    </tr>\n",
       "    <tr>\n",
       "      <th>2</th>\n",
       "      <td>some</td>\n",
       "      <td>big</td>\n",
       "      <td>always</td>\n",
       "      <td>expensive</td>\n",
       "      <td>few</td>\n",
       "      <td>no</td>\n",
       "    </tr>\n",
       "    <tr>\n",
       "      <th>3</th>\n",
       "      <td>many</td>\n",
       "      <td>medimum</td>\n",
       "      <td>no</td>\n",
       "      <td>expensive</td>\n",
       "      <td>many</td>\n",
       "      <td>yes</td>\n",
       "    </tr>\n",
       "    <tr>\n",
       "      <th>4</th>\n",
       "      <td>many</td>\n",
       "      <td>small</td>\n",
       "      <td>no</td>\n",
       "      <td>affordable</td>\n",
       "      <td>many</td>\n",
       "      <td>yes</td>\n",
       "    </tr>\n",
       "  </tbody>\n",
       "</table>\n",
       "</div>"
      ],
      "text/plain": [
       "  citationa     size inlibrary       price editions  buy\n",
       "0      some    small        no  affordable     many   no\n",
       "1      many      big        no   expensive      one  yes\n",
       "2      some      big    always   expensive      few   no\n",
       "3      many  medimum        no   expensive     many  yes\n",
       "4      many    small        no  affordable     many  yes"
      ]
     },
     "execution_count": 37,
     "metadata": {},
     "output_type": "execute_result"
    }
   ],
   "source": [
    "data"
   ]
  },
  {
   "cell_type": "code",
   "execution_count": 45,
   "id": "d38aa86b",
   "metadata": {},
   "outputs": [],
   "source": [
    "concepts=np.array(data)[:,:-1]"
   ]
  },
  {
   "cell_type": "code",
   "execution_count": 46,
   "id": "c586edb3",
   "metadata": {},
   "outputs": [
    {
     "data": {
      "text/plain": [
       "array([['some', 'small', 'no', 'affordable', 'many'],\n",
       "       ['many', 'big', 'no', 'expensive', 'one'],\n",
       "       ['some', 'big', 'always', 'expensive', 'few'],\n",
       "       ['many', 'medimum', 'no', 'expensive', 'many'],\n",
       "       ['many', 'small', 'no', 'affordable', 'many']], dtype=object)"
      ]
     },
     "execution_count": 46,
     "metadata": {},
     "output_type": "execute_result"
    }
   ],
   "source": [
    "concepts"
   ]
  },
  {
   "cell_type": "code",
   "execution_count": 47,
   "id": "0b5dbd98",
   "metadata": {},
   "outputs": [],
   "source": [
    "target=np.array(data)[:,-1]"
   ]
  },
  {
   "cell_type": "code",
   "execution_count": 48,
   "id": "7f98006f",
   "metadata": {},
   "outputs": [
    {
     "data": {
      "text/plain": [
       "array(['no', 'yes', 'no', 'yes', 'yes'], dtype=object)"
      ]
     },
     "execution_count": 48,
     "metadata": {},
     "output_type": "execute_result"
    }
   ],
   "source": [
    "target"
   ]
  },
  {
   "cell_type": "code",
   "execution_count": 49,
   "id": "9687cc7d",
   "metadata": {},
   "outputs": [],
   "source": [
    "def train(con,tar):\n",
    "    for i, val in enumerate(tar):\n",
    "        if val.lower()=='yes':\n",
    "            specific_h=con[i].copy()\n",
    "            break\n",
    "    \n",
    "    for i, val in enumerate(con):\n",
    "        if tar[i].lower()=='yes':\n",
    "            for x in range(len(specific_h)):\n",
    "                if val[x] != specific_h[x]:\n",
    "                    specific_h[x]='?'\n",
    "                else:\n",
    "                    pass\n",
    "    return specific_h\n",
    "                \n"
   ]
  },
  {
   "cell_type": "code",
   "execution_count": 50,
   "id": "16fc6497",
   "metadata": {},
   "outputs": [
    {
     "name": "stdout",
     "output_type": "stream",
     "text": [
      "['many' '?' 'no' '?' '?']\n"
     ]
    }
   ],
   "source": [
    "print(train(concepts,target))"
   ]
  },
  {
   "cell_type": "code",
   "execution_count": null,
   "id": "b4df2cc5",
   "metadata": {},
   "outputs": [],
   "source": []
  }
 ],
 "metadata": {
  "kernelspec": {
   "display_name": "Python 3 (ipykernel)",
   "language": "python",
   "name": "python3"
  },
  "language_info": {
   "codemirror_mode": {
    "name": "ipython",
    "version": 3
   },
   "file_extension": ".py",
   "mimetype": "text/x-python",
   "name": "python",
   "nbconvert_exporter": "python",
   "pygments_lexer": "ipython3",
   "version": "3.11.3"
  }
 },
 "nbformat": 4,
 "nbformat_minor": 5
}
